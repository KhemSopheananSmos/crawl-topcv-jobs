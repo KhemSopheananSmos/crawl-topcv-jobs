{
 "cells": [
  {
   "cell_type": "markdown",
   "id": "852c8441",
   "metadata": {},
   "source": [
    "# I. Import Libraries"
   ]
  },
  {
   "cell_type": "code",
   "execution_count": 1,
   "id": "e982db51",
   "metadata": {},
   "outputs": [],
   "source": [
    "# Typical imports\n",
    "import pandas as pd\n",
    "import numpy as np\n",
    "import matplotlib.pyplot as plt\n",
    "import seaborn as sns\n",
    "import json\n",
    "\n",
    "# Selenium imports\n",
    "from selenium import webdriver\n",
    "from selenium.webdriver.common.by import By\n",
    "from selenium.webdriver.common.keys import Keys\n",
    "from selenium.webdriver.support.ui import WebDriverWait\n",
    "from selenium.webdriver.support import expected_conditions as EC\n",
    "from selenium.common.exceptions import TimeoutException, NoSuchElementException, StaleElementReferenceException\n",
    "from selenium.webdriver.chrome.service import Service\n",
    "from webdriver_manager.chrome import ChromeDriverManager\n",
    "from selenium.webdriver.chrome.options import Options"
   ]
  },
  {
   "cell_type": "markdown",
   "id": "f0238bea",
   "metadata": {},
   "source": [
    "# Create session"
   ]
  },
  {
   "cell_type": "code",
   "execution_count": 2,
   "id": "3833abbe",
   "metadata": {},
   "outputs": [
    {
     "name": "stdout",
     "output_type": "stream",
     "text": [
      "Tuyển dụng 77 việc làm Data Analyst [Update 05/09/2025]\n"
     ]
    }
   ],
   "source": [
    "# Setup Chrome \n",
    "options = Options()\n",
    "# options.add_argument(\"--headless\")\n",
    "# options.add_argument(\"--no-sandbox\")\n",
    "# options.add_argument(\"--disable-dev-shm-usage\")\n",
    "\n",
    "driver = webdriver.Chrome(service=Service(ChromeDriverManager().install()), options=options)\n",
    "\n",
    "# driver = webdriver.Chrome() #Sử dụng chrome\n",
    "\n",
    "driver.get(\"https://www.topcv.vn/tim-viec-lam-data-analyst?type_keyword=1&page=1&sba=1\")\n",
    "\n",
    "print(driver.title)"
   ]
  }
 ],
 "metadata": {
  "kernelspec": {
   "display_name": "crawl-topcv-jobs (3.8.10)",
   "language": "python",
   "name": "python3"
  },
  "language_info": {
   "codemirror_mode": {
    "name": "ipython",
    "version": 3
   },
   "file_extension": ".py",
   "mimetype": "text/x-python",
   "name": "python",
   "nbconvert_exporter": "python",
   "pygments_lexer": "ipython3",
   "version": "3.8.10"
  }
 },
 "nbformat": 4,
 "nbformat_minor": 5
}
